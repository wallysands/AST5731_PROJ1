{
 "cells": [
  {
   "cell_type": "markdown",
   "metadata": {},
   "source": [
    "# Beta-Binomial Model of Galaxy Morphological Type Frequencies\n",
    "Group Members: Abby Stokes, Elliot Tanner, Lexi Leali, Walter Sands\n"
   ]
  },
  {
   "cell_type": "markdown",
   "metadata": {},
   "source": [
    "## 1. Importing Packages and Reading in the Data"
   ]
  },
  {
   "cell_type": "code",
   "execution_count": null,
   "metadata": {},
   "outputs": [],
   "source": [
    "import numpy as np\n",
    "import matplotlib.pyplot as plt\n",
    "import pandas as pd\n",
    "import scipy.stats as stats\n",
    "import random\n",
    "from scipy.stats import beta"
   ]
  },
  {
   "cell_type": "code",
   "execution_count": null,
   "metadata": {},
   "outputs": [],
   "source": [
    "dat=pd.read_table(\"GalaxyMorphZ.tsv\") #Replace with local file path\n",
    "dat = pd.DataFrame(df)\n",
    "print(dat.head())\n",
    "print(dat.describe())"
   ]
  },
  {
   "cell_type": "markdown",
   "metadata": {},
   "source": [
    "## 2. Visual Inspection of Data"
   ]
  },
  {
   "cell_type": "code",
   "execution_count": null,
   "metadata": {},
   "outputs": [],
   "source": [
    "num=len(dat) # Total number of galaxies\n",
    "num1SVM=len(dat[dat[\"SVMPython\"]==1]) # Number of late-type galaxies according to SVM\n",
    "num0SVM=len(dat[dat[\"SVMPython\"]==0])\n",
    "num1RF=len(dat[dat[\"RFPython\"]==1]) # Number of late-type galaxies according to RF\n",
    "num0RF=len(dat[dat[\"RFPython\"]==0])\n",
    "numDisagree=len(dat[(dat[\"SVMPython\"]==1)^(dat[\"RFPython\"]==1)]) # Number of galaxies where the two algorithms disagree\n",
    "\n",
    "print(\"Number of late-type SVM: \", num1SVM)\n",
    "print(\"Number of late-type RF: \", num1RF)\n",
    "print(\"Number of early-type SVM: \", num0SVM)\n",
    "print(\"Number of early-type RF: \", num0RF)\n",
    "\n",
    "print(\"Percent of late-type SVM: \", num1SVM/len(dat))\n",
    "print(\"Percent of late-type RF: \", num1RF/len(dat))\n",
    "print(\"Percent of early-type SVM: \", num0SVM/len(dat))\n",
    "print(\"Percent of early-type RF: \", num0RF/len(dat))\n",
    "\n",
    "plt.bar([\"Early-Type\",\"Late-Type\"],[num-num1SVM,num1SVM])\n",
    "plt.title(\"Proportions according to SVM algorithm\")\n",
    "plt.show()\n",
    "plt.bar([\"Early-Type\",\"Late-Type\"],[num-num1RF,num1RF])\n",
    "plt.title(\"Proportions according to RF algorithm\")\n",
    "plt.show()"
   ]
  },
  {
   "cell_type": "markdown",
   "metadata": {},
   "source": [
    "## 3. Establishing Prior Parameters and Creating Model\n",
    "Our data follows a binomial distribution, with probability of success theta. Theta can be modeled using a beta distribution, with hyperparameters a and b."
   ]
  },
  {
   "cell_type": "code",
   "execution_count": null,
   "metadata": {},
   "outputs": [],
   "source": [
    "a = 1\n",
    "b = 1"
   ]
  },
  {
   "cell_type": "markdown",
   "metadata": {},
   "source": [
    "## 4. Prior Predictive Check"
   ]
  },
  {
   "cell_type": "code",
   "execution_count": null,
   "metadata": {},
   "outputs": [],
   "source": [
    "## Prior Predictive Check"
   ]
  },
  {
   "cell_type": "markdown",
   "metadata": {},
   "source": [
    "## 5. Posterior Distribution\n",
    "Calculating posterior parameters and plotting distribution"
   ]
  },
  {
   "cell_type": "code",
   "execution_count": null,
   "metadata": {},
   "outputs": [],
   "source": [
    "## Parameters\n",
    "shape_1 = a + num1SVM\n",
    "shape_2 = num + b - num1SVM\n",
    "post_mean = shape_1 / (shape_1 + shape_2)\n",
    "post_lb = beta.ppf(.025, shape_1, shape_2)\n",
    "post_ub = beta.ppf(.975, shape_1, shape_2)\n",
    "print('Mean for a =',a,'b =',b,':',round(post_mean,4))\n",
    "\n",
    "print('Lower bound:',round(post_lb,4),\" and Upper bound:\",round(post_ub,4))\n",
    "\n",
    "## Plot\n",
    "ix,ax = plt.subplots(1,2)\n",
    "plt.title('Posterior')\n",
    "x1 = np.linspace(beta.ppf(0.01, a, b), beta.ppf(0.99, a, b), 100)\n",
    "y = beta.pdf(x1,a,b)\n",
    "ax[0].plot(x1,y)\n",
    "xp = np.linspace(beta.ppf(0.01, shape_1, shape_2), beta.ppf(0.99, shape_1, shape_2), 100)\n",
    "y = beta.pdf(xp, shape_1, shape_2)\n",
    "ax[1].plot(xp,y)\n",
    "ax[1].axvline(post_mean,color='b',ls='--')"
   ]
  },
  {
   "cell_type": "markdown",
   "metadata": {},
   "source": [
    "## 6. Sensitivity Analysis\n",
    "Select different values for a and b and see how much they influence our posterior.\n",
    "\n",
    "Because of our large sample size, the estimate for the mean is extremely insensitive to the prior hyperparameters. We see that even for a prior that assumes extremely low spiral galaxy frequency (a=0.00001,b=5000), the posterior mean decreases by less than 1%. Similarly, if we presume extremely high spiral galaxy frequency (a=5000,b=0.00001), the posterior mean increases by less than 1%."
   ]
  },
  {
   "cell_type": "code",
   "execution_count": null,
   "metadata": {},
   "outputs": [],
   "source": [
    "## Sensitivity Analysis\n",
    "a=0.00001\n",
    "b=5000\n",
    "## Parameters\n",
    "shape_1 = a + num1SVM\n",
    "shape_2 = num + b - num1SVM\n",
    "post_mean = shape_1 / (shape_1 + shape_2)\n",
    "post_lb = beta.ppf(.025, shape_1, shape_2)\n",
    "post_ub = beta.ppf(.975, shape_1, shape_2)\n",
    "print('Mean for a =',a,'b =',b,':',round(post_mean,4))\n",
    "\n",
    "print('Lower bound:',round(post_lb,4),\" and Upper bound:\",round(post_ub,4))\n",
    "\n",
    "## Plot\n",
    "ix,ax = plt.subplots(1,2)\n",
    "plt.title('Posterior')\n",
    "x1 = np.linspace(beta.ppf(0.01, a, b), beta.ppf(0.99, a, b), 100)\n",
    "y = beta.pdf(x1,a,b)\n",
    "ax[0].plot(x1,y)\n",
    "xp = np.linspace(beta.ppf(0.01, shape_1, shape_2), beta.ppf(0.99, shape_1, shape_2), 100)\n",
    "y = beta.pdf(xp, shape_1, shape_2)\n",
    "ax[1].plot(xp,y)\n",
    "ax[1].axvline(post_mean,color='b',ls='--')\n"
   ]
  },
  {
   "cell_type": "code",
   "execution_count": null,
   "metadata": {},
   "outputs": [],
   "source": [
    "a=5000\n",
    "b=0.00001\n",
    "## Parameters\n",
    "shape_1 = a + num1SVM\n",
    "shape_2 = num + b - num1SVM\n",
    "post_mean = shape_1 / (shape_1 + shape_2)\n",
    "post_lb = beta.ppf(.025, shape_1, shape_2)\n",
    "post_ub = beta.ppf(.975, shape_1, shape_2)\n",
    "print('Mean for a =',a,'b =',b,':',round(post_mean,4))\n",
    "\n",
    "print('Lower bound:',round(post_lb,4),\" and Upper bound:\",round(post_ub,4))\n",
    "\n",
    "## Plot\n",
    "ix,ax = plt.subplots(1,2)\n",
    "plt.title('Posterior')\n",
    "x1 = np.linspace(beta.ppf(0.01, a, b), beta.ppf(0.99, a, b), 100)\n",
    "y = beta.pdf(x1,a,b)\n",
    "ax[0].plot(x1,y)\n",
    "xp = np.linspace(beta.ppf(0.01, shape_1, shape_2), beta.ppf(0.99, shape_1, shape_2), 100)\n",
    "y = beta.pdf(xp, shape_1, shape_2)\n",
    "ax[1].plot(xp,y)\n",
    "ax[1].axvline(post_mean,color='b',ls='--')"
   ]
  },
  {
   "cell_type": "markdown",
   "metadata": {},
   "source": [
    "## 7. Results: Posterior Confidence Interval, Mean, and Variance "
   ]
  },
  {
   "cell_type": "markdown",
   "metadata": {},
   "source": [
    "The final posterior confidence interval for theta is ___. This can be interpreted as ___."
   ]
  },
  {
   "cell_type": "markdown",
   "metadata": {},
   "source": []
  }
 ],
 "metadata": {
  "kernelspec": {
   "display_name": "Python 3",
   "language": "python",
   "name": "python3"
  },
  "language_info": {
   "codemirror_mode": {
    "name": "ipython",
    "version": 3
   },
   "file_extension": ".py",
   "mimetype": "text/x-python",
   "name": "python",
   "nbconvert_exporter": "python",
   "pygments_lexer": "ipython3",
   "version": "3.11.4"
  }
 },
 "nbformat": 4,
 "nbformat_minor": 2
}
