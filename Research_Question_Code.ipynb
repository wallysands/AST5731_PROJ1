{
 "cells": [
  {
   "cell_type": "code",
   "execution_count": null,
   "id": "61b7fc48-2bf7-42b8-b9cd-66bede21d651",
   "metadata": {
    "tags": []
   },
   "outputs": [],
   "source": [
    "# Copyrighted, Trademarked, and Rigged with Traps by Elliott Tanner\n",
    "import pandas as pd # Read out the csv data\n",
    "import matplotlib.pyplot as plt\n",
    "import numpy as np \n",
    "import scipy.stats as sps\n",
    "import antigravity # For lightweight code"
   ]
  },
  {
   "cell_type": "code",
   "execution_count": null,
   "id": "ac32f822-eaf0-44aa-a269-2b3a8837a742",
   "metadata": {
    "tags": []
   },
   "outputs": [],
   "source": [
    "dat=pd.read_table(\"GalaxyMorphZ.tsv\")\n",
    "np.min(dat[\"z\"])"
   ]
  },
  {
   "cell_type": "code",
   "execution_count": null,
   "id": "ceb4c0e4-f455-429d-95e8-756b34f972b3",
   "metadata": {
    "tags": []
   },
   "outputs": [],
   "source": [
    "num=len(dat) # Total number of galaxies\n",
    "num1SVM=len(dat[dat[\"SVMPython\"]==1]) # Number of late-type galaxies according to SVM\n",
    "num1RF=len(dat[dat[\"RFPython\"]==1]) # Number of late-type galaxies according to RF\n",
    "numDisagree=len(dat[(dat[\"SVMPython\"]==1)^(dat[\"RFPython\"]==1)]) # Number of galaxies where the two algorithms disagree"
   ]
  },
  {
   "cell_type": "code",
   "execution_count": null,
   "id": "8d1d80d4-52c2-45ea-8172-c6dc3841c8a7",
   "metadata": {
    "tags": []
   },
   "outputs": [],
   "source": [
    "plt.bar([\"Early-Type\",\"Late-Type\"],[num-num1SVM,num1SVM])\n",
    "plt.title(\"Proportions according to SVM algorithm\")\n",
    "plt.show()\n",
    "plt.bar([\"Early-Type\",\"Late-Type\"],[num-num1RF,num1RF])\n",
    "plt.title(\"Proportions according to RF algorithm\")\n",
    "plt.show()"
   ]
  },
  {
   "cell_type": "code",
   "execution_count": null,
   "id": "8dac90c6-08d8-491d-9ff1-754dc5526692",
   "metadata": {
    "tags": []
   },
   "outputs": [],
   "source": [
    "# Just a little noodling around. Might be interesting to look at on my own time.\n",
    "x=np.linspace(np.min(dat[\"z\"]),np.max(dat[\"z\"]),100)\n",
    "y1=np.zeros(100)\n",
    "y2=np.zeros(100)\n",
    "sep=x[1]-x[0]\n",
    "for i,z in enumerate(x):\n",
    "    try:\n",
    "        y1[i]=len(dat[(dat[\"SVMPython\"]==1)&(dat[\"z\"]>z)&(dat[\"z\"]<z+sep)])/len(dat[(dat[\"z\"]>z)&(dat[\"z\"]<z+sep)])\n",
    "    except:\n",
    "        y1[i]=0\n",
    "for i,z in enumerate(x):\n",
    "    try:\n",
    "        y2[i]=len(dat[(dat[\"RFPython\"]==1)&(dat[\"z\"]>z)&(dat[\"z\"]<z+sep)])/len(dat[(dat[\"z\"]>z)&(dat[\"z\"]<z+sep)])\n",
    "    except:\n",
    "        y2[i]=0\n",
    "plt.plot(x,y1,label=\"SVM\")\n",
    "plt.plot(x,y2,label=\"RF\")\n",
    "plt.legend()\n",
    "plt.xlim(x[0],x[-2])\n",
    "plt.xlabel(\"Redshift\")\n",
    "plt.ylabel(\"Ratio of late-type galaxies\")\n",
    "plt.show()"
   ]
  },
  {
   "cell_type": "code",
   "execution_count": null,
   "id": "a05a1108-7efa-4ead-a75b-2ab1dbfa1b5f",
   "metadata": {},
   "outputs": [],
   "source": []
  }
 ],
 "metadata": {
  "kernelspec": {
   "display_name": "Python 3 (ipykernel)",
   "language": "python",
   "name": "python3"
  },
  "language_info": {
   "codemirror_mode": {
    "name": "ipython",
    "version": 3
   },
   "file_extension": ".py",
   "mimetype": "text/x-python",
   "name": "python",
   "nbconvert_exporter": "python",
   "pygments_lexer": "ipython3",
   "version": "3.11.4"
  }
 },
 "nbformat": 4,
 "nbformat_minor": 5
}
